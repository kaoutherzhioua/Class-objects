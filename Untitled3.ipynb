{
  "nbformat": 4,
  "nbformat_minor": 0,
  "metadata": {
    "colab": {
      "name": "Untitled3.ipynb",
      "provenance": []
    },
    "kernelspec": {
      "name": "python3",
      "display_name": "Python 3"
    },
    "language_info": {
      "name": "python"
    }
  },
  "cells": [
    {
      "cell_type": "code",
      "metadata": {
        "colab": {
          "base_uri": "https://localhost:8080/"
        },
        "id": "BFTpzpco3rmi",
        "outputId": "a6238db3-f34e-4470-b19a-7ebd46a5cbd0"
      },
      "source": [
        "class point3D:\n",
        "  def __init__(self,x,y,z):\n",
        "    self.x=x\n",
        "    self.y=y\n",
        "    self.z=z\n",
        "  def set_3d (self):\n",
        "    return \"({},{},{})\".format(self.x,self.y,self.z)\n",
        "my_point = point3D(1,2,3)\n",
        "print(my_point.set_3d())\n"
      ],
      "execution_count": null,
      "outputs": [
        {
          "output_type": "stream",
          "text": [
            "(1,2,3)\n"
          ],
          "name": "stdout"
        }
      ]
    },
    {
      "cell_type": "code",
      "metadata": {
        "id": "0_8_QXwY-snS",
        "colab": {
          "base_uri": "https://localhost:8080/",
          "height": 35
        },
        "outputId": "4847ed4f-bfff-4d44-a4b9-c0d42ca0fe07"
      },
      "source": [
        "class rectangle:\n",
        "    def __init__(self,length,width):\n",
        "      self.length=length\n",
        "      self.width=width\n",
        "    def area(self):\n",
        "      return \"l'aire est de {}\".format(self.length*self.width)\n",
        "    def perimeter(self):\n",
        "      return \"le perimeter est de {}\".format((self.length+self.width)*2)\n",
        "my_rectangle=rectangle(3,4)\n",
        "my_rectangle.area()\n",
        "my_rectangle.perimeter()\n"
      ],
      "execution_count": 34,
      "outputs": [
        {
          "output_type": "execute_result",
          "data": {
            "application/vnd.google.colaboratory.intrinsic+json": {
              "type": "string"
            },
            "text/plain": [
              "'le perimeter est de 14'"
            ]
          },
          "metadata": {
            "tags": []
          },
          "execution_count": 34
        }
      ]
    },
    {
      "cell_type": "code",
      "metadata": {
        "id": "O6YPf3XDPG2Y",
        "colab": {
          "base_uri": "https://localhost:8080/"
        },
        "outputId": "a9d342da-fdec-4329-fa1b-7f08a1a16786"
      },
      "source": [
        "class circle: \n",
        "  def __init__(self,a,b,r):\n",
        "    self.a=a\n",
        "    self.b=b\n",
        "    self.r=r\n",
        "  def area(self):\n",
        "    return self.r**2*3.14\n",
        "  def perimeter(self):\n",
        "    return 2*self.r*3.14\n",
        "  def appartenance (self,x,y):\n",
        "    return (x-self.a)**2+(y-self.b)**2==self.r**2\n",
        "c=circle(0,0,1)\n",
        "print(\"l'aire est:\",c.area())\n",
        "print(\"le perimetre est\",c.perimeter())\n",
        "print(\"test appartenance b(1,2)\",c.appartenance (1,2))"
      ],
      "execution_count": 43,
      "outputs": [
        {
          "output_type": "stream",
          "text": [
            "l'aire est: 3.14\n",
            "le perimetre est 6.28\n",
            "test appartenance b(1,2) False\n"
          ],
          "name": "stdout"
        }
      ]
    },
    {
      "cell_type": "code",
      "metadata": {
        "id": "ecJenGAg-9Of"
      },
      "source": [
        "class Bank :\n",
        "  def init (self,balance) :\n",
        "    self.balance=balance\n",
        "  def deposit(self,d) :\n",
        "    self.balance=self.balance+d\n",
        "    print(self.balance)\n",
        "  def withdraw (self,w):\n",
        "    self.balance=self.balance-w\n",
        "    print(self.balance)"
      ],
      "execution_count": 56,
      "outputs": []
    }
  ]
}